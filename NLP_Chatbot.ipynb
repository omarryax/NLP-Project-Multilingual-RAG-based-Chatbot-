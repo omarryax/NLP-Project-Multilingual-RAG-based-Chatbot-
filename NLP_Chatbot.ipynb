{
 "cells": [
  {
   "cell_type": "markdown",
   "metadata": {
    "id": "OLyGsnod7_2R"
   },
   "source": [
    " 1. Load & Read All Text Files (English + Urdu)"
   ]
  },
  {
   "cell_type": "code",
   "execution_count": null,
   "metadata": {
    "colab": {
     "base_uri": "https://localhost:8080/",
     "height": 73
    },
    "id": "2zWDjq-tZOb_",
    "outputId": "a614f077-9bae-467a-ff4f-5fe9398b62b6"
   },
   "outputs": [
    {
     "data": {
      "text/html": [
       "\n",
       "     <input type=\"file\" id=\"files-e0eeca6d-b7b3-4854-9dd6-e49908bb49ca\" name=\"files[]\" multiple disabled\n",
       "        style=\"border:none\" />\n",
       "     <output id=\"result-e0eeca6d-b7b3-4854-9dd6-e49908bb49ca\">\n",
       "      Upload widget is only available when the cell has been executed in the\n",
       "      current browser session. Please rerun this cell to enable.\n",
       "      </output>\n",
       "      <script>// Copyright 2017 Google LLC\n",
       "//\n",
       "// Licensed under the Apache License, Version 2.0 (the \"License\");\n",
       "// you may not use this file except in compliance with the License.\n",
       "// You may obtain a copy of the License at\n",
       "//\n",
       "//      http://www.apache.org/licenses/LICENSE-2.0\n",
       "//\n",
       "// Unless required by applicable law or agreed to in writing, software\n",
       "// distributed under the License is distributed on an \"AS IS\" BASIS,\n",
       "// WITHOUT WARRANTIES OR CONDITIONS OF ANY KIND, either express or implied.\n",
       "// See the License for the specific language governing permissions and\n",
       "// limitations under the License.\n",
       "\n",
       "/**\n",
       " * @fileoverview Helpers for google.colab Python module.\n",
       " */\n",
       "(function(scope) {\n",
       "function span(text, styleAttributes = {}) {\n",
       "  const element = document.createElement('span');\n",
       "  element.textContent = text;\n",
       "  for (const key of Object.keys(styleAttributes)) {\n",
       "    element.style[key] = styleAttributes[key];\n",
       "  }\n",
       "  return element;\n",
       "}\n",
       "\n",
       "// Max number of bytes which will be uploaded at a time.\n",
       "const MAX_PAYLOAD_SIZE = 100 * 1024;\n",
       "\n",
       "function _uploadFiles(inputId, outputId) {\n",
       "  const steps = uploadFilesStep(inputId, outputId);\n",
       "  const outputElement = document.getElementById(outputId);\n",
       "  // Cache steps on the outputElement to make it available for the next call\n",
       "  // to uploadFilesContinue from Python.\n",
       "  outputElement.steps = steps;\n",
       "\n",
       "  return _uploadFilesContinue(outputId);\n",
       "}\n",
       "\n",
       "// This is roughly an async generator (not supported in the browser yet),\n",
       "// where there are multiple asynchronous steps and the Python side is going\n",
       "// to poll for completion of each step.\n",
       "// This uses a Promise to block the python side on completion of each step,\n",
       "// then passes the result of the previous step as the input to the next step.\n",
       "function _uploadFilesContinue(outputId) {\n",
       "  const outputElement = document.getElementById(outputId);\n",
       "  const steps = outputElement.steps;\n",
       "\n",
       "  const next = steps.next(outputElement.lastPromiseValue);\n",
       "  return Promise.resolve(next.value.promise).then((value) => {\n",
       "    // Cache the last promise value to make it available to the next\n",
       "    // step of the generator.\n",
       "    outputElement.lastPromiseValue = value;\n",
       "    return next.value.response;\n",
       "  });\n",
       "}\n",
       "\n",
       "/**\n",
       " * Generator function which is called between each async step of the upload\n",
       " * process.\n",
       " * @param {string} inputId Element ID of the input file picker element.\n",
       " * @param {string} outputId Element ID of the output display.\n",
       " * @return {!Iterable<!Object>} Iterable of next steps.\n",
       " */\n",
       "function* uploadFilesStep(inputId, outputId) {\n",
       "  const inputElement = document.getElementById(inputId);\n",
       "  inputElement.disabled = false;\n",
       "\n",
       "  const outputElement = document.getElementById(outputId);\n",
       "  outputElement.innerHTML = '';\n",
       "\n",
       "  const pickedPromise = new Promise((resolve) => {\n",
       "    inputElement.addEventListener('change', (e) => {\n",
       "      resolve(e.target.files);\n",
       "    });\n",
       "  });\n",
       "\n",
       "  const cancel = document.createElement('button');\n",
       "  inputElement.parentElement.appendChild(cancel);\n",
       "  cancel.textContent = 'Cancel upload';\n",
       "  const cancelPromise = new Promise((resolve) => {\n",
       "    cancel.onclick = () => {\n",
       "      resolve(null);\n",
       "    };\n",
       "  });\n",
       "\n",
       "  // Wait for the user to pick the files.\n",
       "  const files = yield {\n",
       "    promise: Promise.race([pickedPromise, cancelPromise]),\n",
       "    response: {\n",
       "      action: 'starting',\n",
       "    }\n",
       "  };\n",
       "\n",
       "  cancel.remove();\n",
       "\n",
       "  // Disable the input element since further picks are not allowed.\n",
       "  inputElement.disabled = true;\n",
       "\n",
       "  if (!files) {\n",
       "    return {\n",
       "      response: {\n",
       "        action: 'complete',\n",
       "      }\n",
       "    };\n",
       "  }\n",
       "\n",
       "  for (const file of files) {\n",
       "    const li = document.createElement('li');\n",
       "    li.append(span(file.name, {fontWeight: 'bold'}));\n",
       "    li.append(span(\n",
       "        `(${file.type || 'n/a'}) - ${file.size} bytes, ` +\n",
       "        `last modified: ${\n",
       "            file.lastModifiedDate ? file.lastModifiedDate.toLocaleDateString() :\n",
       "                                    'n/a'} - `));\n",
       "    const percent = span('0% done');\n",
       "    li.appendChild(percent);\n",
       "\n",
       "    outputElement.appendChild(li);\n",
       "\n",
       "    const fileDataPromise = new Promise((resolve) => {\n",
       "      const reader = new FileReader();\n",
       "      reader.onload = (e) => {\n",
       "        resolve(e.target.result);\n",
       "      };\n",
       "      reader.readAsArrayBuffer(file);\n",
       "    });\n",
       "    // Wait for the data to be ready.\n",
       "    let fileData = yield {\n",
       "      promise: fileDataPromise,\n",
       "      response: {\n",
       "        action: 'continue',\n",
       "      }\n",
       "    };\n",
       "\n",
       "    // Use a chunked sending to avoid message size limits. See b/62115660.\n",
       "    let position = 0;\n",
       "    do {\n",
       "      const length = Math.min(fileData.byteLength - position, MAX_PAYLOAD_SIZE);\n",
       "      const chunk = new Uint8Array(fileData, position, length);\n",
       "      position += length;\n",
       "\n",
       "      const base64 = btoa(String.fromCharCode.apply(null, chunk));\n",
       "      yield {\n",
       "        response: {\n",
       "          action: 'append',\n",
       "          file: file.name,\n",
       "          data: base64,\n",
       "        },\n",
       "      };\n",
       "\n",
       "      let percentDone = fileData.byteLength === 0 ?\n",
       "          100 :\n",
       "          Math.round((position / fileData.byteLength) * 100);\n",
       "      percent.textContent = `${percentDone}% done`;\n",
       "\n",
       "    } while (position < fileData.byteLength);\n",
       "  }\n",
       "\n",
       "  // All done.\n",
       "  yield {\n",
       "    response: {\n",
       "      action: 'complete',\n",
       "    }\n",
       "  };\n",
       "}\n",
       "\n",
       "scope.google = scope.google || {};\n",
       "scope.google.colab = scope.google.colab || {};\n",
       "scope.google.colab._files = {\n",
       "  _uploadFiles,\n",
       "  _uploadFilesContinue,\n",
       "};\n",
       "})(self);\n",
       "</script> "
      ],
      "text/plain": [
       "<IPython.core.display.HTML object>"
      ]
     },
     "metadata": {},
     "output_type": "display_data"
    },
    {
     "name": "stdout",
     "output_type": "stream",
     "text": [
      "Saving NLP Project.zip to NLP Project (1).zip\n"
     ]
    }
   ],
   "source": [
    "from google.colab import files\n",
    "uploaded = files.upload()"
   ]
  },
  {
   "cell_type": "code",
   "execution_count": null,
   "metadata": {
    "id": "DXVwhHaw5l43"
   },
   "outputs": [],
   "source": [
    "import zipfile\n",
    "import os\n",
    "\n",
    "with zipfile.ZipFile('NLP Project.zip', 'r') as zip_ref:\n",
    "    zip_ref.extractall()"
   ]
  },
  {
   "cell_type": "code",
   "execution_count": null,
   "metadata": {
    "colab": {
     "base_uri": "https://localhost:8080/"
    },
    "id": "_qaGm8uA66Ox",
    "outputId": "631dc7f6-d777-488a-b5ad-70fa477befb7"
   },
   "outputs": [
    {
     "name": "stdout",
     "output_type": "stream",
     "text": [
      "Files in English folder: ['ai_intro.txt', 'neural network.txt', 'machine learning.txt']\n",
      "Files in Urdu folder: ['ai_intro_urdu.txt', 'machine_learning_urdu.txt', 'neural_network_urdu.txt']\n"
     ]
    }
   ],
   "source": [
    "# Check files\n",
    "print(\"Files in English folder:\", os.listdir(\"NLP Project/data/English\"))\n",
    "print(\"Files in Urdu folder:\", os.listdir(\"NLP Project/data/Urdu\"))"
   ]
  },
  {
   "cell_type": "markdown",
   "metadata": {
    "id": "-FkVdr7C8eeg"
   },
   "source": [
    "2. Load and Clean Text"
   ]
  },
  {
   "cell_type": "code",
   "execution_count": null,
   "metadata": {
    "id": "96_GiByo7Ok9"
   },
   "outputs": [],
   "source": [
    "def load_and_clean_texts(directory, lang='english'):\n",
    "    all_texts = []\n",
    "\n",
    "    for filename in os.listdir(directory):\n",
    "        if filename.endswith(\".txt\"):\n",
    "            filepath = os.path.join(directory, filename)\n",
    "            with open(filepath, 'r', encoding='utf-8') as f:\n",
    "                text = f.read()\n",
    "                text = text.strip()\n",
    "                text = ' '.join(text.split())\n",
    "                if lang == 'english':\n",
    "                    text = text.lower()\n",
    "                all_texts.append((filename, text))\n",
    "\n",
    "    return all_texts"
   ]
  },
  {
   "cell_type": "code",
   "execution_count": null,
   "metadata": {
    "colab": {
     "base_uri": "https://localhost:8080/"
    },
    "id": "vFioGB7a7mnb",
    "outputId": "a7c88e73-e97d-44c3-a864-b6441a2e4740"
   },
   "outputs": [
    {
     "name": "stdout",
     "output_type": "stream",
     "text": [
      "Sample English:\n",
      " ('ai_intro.txt', 'artificial intelligence (ai) refers to the capability of computational systems to perform tasks typically associated with human intelligence, such as learning, reasoning, problem-solving, perception, and decision-making. it is a field of research in computer science that develops and studies methods and software that enable machines to perceive their environment and use learning and intelligence to take actions that maximize their chances of achieving defined goals.[1] such machines may be called ais. high-profile applications of ai include advanced web search engines (e.g., google search); recommendation systems (used by youtube, amazon, and netflix); virtual assistants (e.g., google assistant, siri, and alexa); autonomous vehicles (e.g., waymo); generative and creative tools (e.g., chatgpt and ai art); and superhuman play and analysis in strategy games (e.g., chess and go). however, many ai applications are not perceived as ai: \"a lot of cutting edge ai has filtered into general applications, often without being called ai because once something becomes useful enough and common enough it\\'s not labeled ai anymore.\"[2][3] various subfields of ai research are centered around particular goals and the use of particular tools. the traditional goals of ai research include learning, reasoning, knowledge representation, planning, natural language processing, perception, and support for robotics.[a] general intelligence—the ability to complete any task performed by a human on an at least equal level—is among the field\\'s long-term goals.[4] to reach these goals, ai researchers have adapted and integrated a wide range of techniques, including search and mathematical optimization, formal logic, artificial neural networks, and methods based on statistics, operations research, and economics.[b] ai also draws upon psychology, linguistics, philosophy, neuroscience, and other fields.[5] artificial intelligence was founded as an academic discipline in 1956,[6] and the field went through multiple cycles of optimism throughout its history,[7][8] followed by periods of disappointment and loss of funding, known as ai winters.[9][10] funding and interest vastly increased after 2012 when deep learning outperformed previous ai techniques.[11] this growth accelerated further after 2017 with the transformer architecture,[12] and by the early 2020s many billions of dollars were being invested in ai and the field experienced rapid ongoing progress in what has become known as the ai boom. the emergence of advanced generative ai in the midst of the ai boom and its ability to create and modify content exposed several unintended consequences and harms in the present and raised concerns about the risks of ai and its long-term effects in the future, prompting discussions about regulatory policies to ensure the safety and benefits of the technology.')\n",
      "\n",
      "Sample Urdu:\n",
      " ('ai_intro_urdu.txt', 'مصنوعی ذہانت سے مراد کمپیوٹری نظاموں کی وہ صلاحیت ہے جو عام طور پر انسانی ذہانت سے وابستہ کاموں کو انجام دینے کی اہلیت رکھتی ہے، جیسے سیکھنا، سوچنا، مسئلے حل کرنا، محسوس کرنا، اور فیصلے کرنا۔ یہ کمپیوٹر سائنس کا ایک تحقیقی شعبہ ہے جو ایسے طریقے اور سافٹ ویئر تیار کرتا ہے جو مشینوں کو اپنے اردگرد کے ماحول کو سمجھنے، سیکھنے، اور دانشمندی سے ایسے اقدامات کرنے کے قابل بناتے ہیں جو متعین کردہ مقاصد کو حاصل کرنے کے امکانات کو بڑھا دیں۔ ایسی مشینوں کو مصنوعی ذہانت رکھنے والی مشینیں کہا جاتا ہے۔ مصنوعی ذہانت کی نمایاں مثالوں میں جدید تلاش کرنے والے نظام، تجویز کرنے والے نظام، مجازی معاونین، خودکار گاڑیاں، تخلیقی اوزار، اور حکمت عملی والے کھیلوں میں غیرمعمولی کارکردگی شامل ہیں۔ تاہم، بہت سی ایسی ایجادات جو مصنوعی ذہانت کی بنیاد پر بنی ہوتی ہیں، عام طور پر مصنوعی ذہانت کہلا کر نہیں پہچانی جاتیں، کیونکہ جب کوئی چیز عام اور مفید ہو جائے تو اسے مصنوعی ذہانت کہنا چھوڑ دیا جاتا ہے۔ مصنوعی ذہانت کی تحقیق مختلف مقاصد اور مخصوص اوزاروں کے استعمال کے گرد گھومتی ہے۔ اس کے روایتی مقاصد میں سیکھنا، سوچنا، علم کی نمائندگی، منصوبہ بندی، قدرتی زبان کی سمجھ، مشاہدہ، اور خودکار مشینوں کی مدد شامل ہیں۔ مکمل ذہانت — یعنی ہر وہ کام جو ایک انسان کر سکتا ہے، اسے کم از کم برابر سطح پر انجام دینا — اس شعبے کا طویل المدتی ہدف ہے۔ ان مقاصد کے حصول کے لیے محققین نے تلاش، ریاضیاتی بہتری، منطقی اصول، مصنوعی اعصابی جال، اور شماریاتی، عملیاتی تحقیق، اور معاشی طریقوں کو اپنایا ہے۔ مصنوعی ذہانت نفسیات، لسانیات، فلسفہ، دماغی سائنس، اور دیگر شعبوں سے بھی فائدہ حاصل کرتی ہے۔ مصنوعی ذہانت کو ایک تعلیمی شعبے کے طور پر ۱۹۵۶ میں قائم کیا گیا۔ اس میدان میں کئی بار جوش و خروش کے دور آئے، جن کے بعد مایوسی اور فنڈنگ کی کمی کے ادوار آئے جنہیں \"سردیاں\" کہا جاتا ہے۔ ۲۰۱۲ کے بعد اس شعبے میں گہری سیکھنے کی تکنیکوں نے پرانی تکنیکوں کو پیچھے چھوڑ دیا، جس کے باعث دلچسپی اور سرمایہ کاری میں زبردست اضافہ ہوا۔ ۲۰۱۷ کے بعد ترقی مزید تیز ہو گئی، اور ۲۰۲۰ کی دہائی کے آغاز تک اربوں کی سرمایہ کاری ہونے لگی اور اسے \"مصنوعی ذہانت کا عروج\" کہا گیا۔ اس دوران جدید تخلیقی مصنوعی ذہانت کی آمد، اور اس کی صلاحیت کہ وہ نیا مواد بنا اور تبدیل کر سکے، نے کئی غیر متوقع نقصانات اور خطرات کو بے نقاب کیا۔ اس نے موجودہ اور مستقبل میں مصنوعی ذہانت کے اثرات اور خطرات کے بارے میں خدشات پیدا کیے، اور اس پر بحث شروع ہوئی کہ ایسی حکمت عملیاں ترتیب دی جائیں جو اس ٹیکنالوجی کی حفاظت اور فوائد کو یقینی بنائیں۔')\n"
     ]
    }
   ],
   "source": [
    "english_data = load_and_clean_texts('NLP Project/data/English', lang='english')\n",
    "urdu_data = load_and_clean_texts('NLP Project/data/Urdu', lang='urdu')\n",
    "\n",
    "print(\"Sample English:\\n\", english_data[0])\n",
    "print(\"\\nSample Urdu:\\n\", urdu_data[0])"
   ]
  },
  {
   "cell_type": "markdown",
   "metadata": {
    "id": "zrUo40e_9KCZ"
   },
   "source": [
    "3. Chunking (Overlap + Fixed Length)"
   ]
  },
  {
   "cell_type": "code",
   "execution_count": null,
   "metadata": {
    "id": "v44fXdYM77o5"
   },
   "outputs": [],
   "source": [
    "def chunk_text(text, chunk_size=100, overlap=20):\n",
    "    words = text.split()\n",
    "    chunks = []\n",
    "\n",
    "    start = 0\n",
    "    while start < len(words):\n",
    "        end = start + chunk_size\n",
    "        chunk = ' '.join(words[start:end])\n",
    "        chunks.append(chunk)\n",
    "        start += chunk_size - overlap\n",
    "\n",
    "    return chunks\n"
   ]
  },
  {
   "cell_type": "code",
   "execution_count": null,
   "metadata": {
    "colab": {
     "base_uri": "https://localhost:8080/"
    },
    "id": "XIQz_hrF9TaR",
    "outputId": "b90a46e3-950c-48e7-a5f8-f8ab4571c1db"
   },
   "outputs": [
    {
     "name": "stdout",
     "output_type": "stream",
     "text": [
      "English Chunks: 13\n",
      "Urdu Chunks: 15\n",
      "\n",
      "Sample English Chunk:\n",
      " ('english_ai_intro.txt_chunk0', 'artificial intelligence (ai) refers to the capability of computational systems to perform tasks typically associated with human intelligence, such as learning, reasoning, problem-solving, perception, and decision-making. it is a field of research in computer science that develops and studies methods and software that enable machines to perceive their environment and use learning and intelligence to take actions that maximize their chances of achieving defined goals.[1] such machines may be called ais. high-profile applications of ai include advanced web search engines (e.g., google search); recommendation systems (used by youtube, amazon, and netflix); virtual assistants (e.g., google assistant, siri, and alexa); autonomous')\n",
      "\n",
      "Sample Urdu Chunk:\n",
      " ('urdu_ai_intro_urdu.txt_chunk0', 'مصنوعی ذہانت سے مراد کمپیوٹری نظاموں کی وہ صلاحیت ہے جو عام طور پر انسانی ذہانت سے وابستہ کاموں کو انجام دینے کی اہلیت رکھتی ہے، جیسے سیکھنا، سوچنا، مسئلے حل کرنا، محسوس کرنا، اور فیصلے کرنا۔ یہ کمپیوٹر سائنس کا ایک تحقیقی شعبہ ہے جو ایسے طریقے اور سافٹ ویئر تیار کرتا ہے جو مشینوں کو اپنے اردگرد کے ماحول کو سمجھنے، سیکھنے، اور دانشمندی سے ایسے اقدامات کرنے کے قابل بناتے ہیں جو متعین کردہ مقاصد کو حاصل کرنے کے امکانات کو بڑھا دیں۔ ایسی مشینوں کو مصنوعی ذہانت رکھنے والی مشینیں کہا جاتا ہے۔ مصنوعی ذہانت کی')\n"
     ]
    }
   ],
   "source": [
    "def process_all_chunks(data_list, lang='english'):\n",
    "    all_chunks = []\n",
    "\n",
    "    for fname, text in data_list:\n",
    "        chunks = chunk_text(text)\n",
    "        for i, chunk in enumerate(chunks):\n",
    "            source = f\"{lang}_{fname}_chunk{i}\"\n",
    "            all_chunks.append((source, chunk))\n",
    "\n",
    "    return all_chunks\n",
    "\n",
    "english_chunks = process_all_chunks(english_data, lang='english')\n",
    "urdu_chunks = process_all_chunks(urdu_data, lang='urdu')\n",
    "\n",
    "print(f\"English Chunks: {len(english_chunks)}\")\n",
    "print(f\"Urdu Chunks: {len(urdu_chunks)}\")\n",
    "\n",
    "# Example\n",
    "print(\"\\nSample English Chunk:\\n\", english_chunks[0])\n",
    "print(\"\\nSample Urdu Chunk:\\n\", urdu_chunks[0])\n"
   ]
  },
  {
   "cell_type": "code",
   "execution_count": null,
   "metadata": {
    "id": "lpTEHzXDJEVA"
   },
   "outputs": [],
   "source": [
    "import json\n",
    "\n",
    "# Save chunks to files\n",
    "with open('english_chunks.json', 'w', encoding='utf-8') as f:\n",
    "    json.dump(english_chunks, f, ensure_ascii=False, indent=2)\n",
    "\n",
    "with open('urdu_chunks.json', 'w', encoding='utf-8') as f:\n",
    "    json.dump(urdu_chunks, f, ensure_ascii=False, indent=2)\n"
   ]
  },
  {
   "cell_type": "markdown",
   "metadata": {
    "id": "-uMJEvzYGxzd"
   },
   "source": [
    "4. Embedding Chunks with selected models"
   ]
  },
  {
   "cell_type": "code",
   "execution_count": null,
   "metadata": {
    "id": "02ov-EGmHg4P"
   },
   "outputs": [],
   "source": [
    "!pip install -q sentence-transformers"
   ]
  },
  {
   "cell_type": "code",
   "execution_count": null,
   "metadata": {
    "colab": {
     "base_uri": "https://localhost:8080/"
    },
    "id": "LfYnRBlQIZs7",
    "outputId": "c8fb1844-f84f-4a5d-cf16-072912cdb6de"
   },
   "outputs": [
    {
     "name": "stdout",
     "output_type": "stream",
     "text": [
      "Requirement already satisfied: huggingface_hub[hf_xet] in /usr/local/lib/python3.11/dist-packages (0.31.4)\n",
      "Requirement already satisfied: filelock in /usr/local/lib/python3.11/dist-packages (from huggingface_hub[hf_xet]) (3.18.0)\n",
      "Requirement already satisfied: fsspec>=2023.5.0 in /usr/local/lib/python3.11/dist-packages (from huggingface_hub[hf_xet]) (2025.3.2)\n",
      "Requirement already satisfied: packaging>=20.9 in /usr/local/lib/python3.11/dist-packages (from huggingface_hub[hf_xet]) (24.2)\n",
      "Requirement already satisfied: pyyaml>=5.1 in /usr/local/lib/python3.11/dist-packages (from huggingface_hub[hf_xet]) (6.0.2)\n",
      "Requirement already satisfied: requests in /usr/local/lib/python3.11/dist-packages (from huggingface_hub[hf_xet]) (2.32.3)\n",
      "Requirement already satisfied: tqdm>=4.42.1 in /usr/local/lib/python3.11/dist-packages (from huggingface_hub[hf_xet]) (4.67.1)\n",
      "Requirement already satisfied: typing-extensions>=3.7.4.3 in /usr/local/lib/python3.11/dist-packages (from huggingface_hub[hf_xet]) (4.13.2)\n",
      "Requirement already satisfied: hf-xet<2.0.0,>=1.1.1 in /usr/local/lib/python3.11/dist-packages (from huggingface_hub[hf_xet]) (1.1.2)\n",
      "Requirement already satisfied: charset-normalizer<4,>=2 in /usr/local/lib/python3.11/dist-packages (from requests->huggingface_hub[hf_xet]) (3.4.2)\n",
      "Requirement already satisfied: idna<4,>=2.5 in /usr/local/lib/python3.11/dist-packages (from requests->huggingface_hub[hf_xet]) (3.10)\n",
      "Requirement already satisfied: urllib3<3,>=1.21.1 in /usr/local/lib/python3.11/dist-packages (from requests->huggingface_hub[hf_xet]) (2.4.0)\n",
      "Requirement already satisfied: certifi>=2017.4.17 in /usr/local/lib/python3.11/dist-packages (from requests->huggingface_hub[hf_xet]) (2025.4.26)\n"
     ]
    }
   ],
   "source": [
    "!pip install huggingface_hub[hf_xet]"
   ]
  },
  {
   "cell_type": "code",
   "execution_count": null,
   "metadata": {
    "colab": {
     "base_uri": "https://localhost:8080/",
     "height": 417,
     "referenced_widgets": [
      "6e8df816bbaa4de29782e159895c6dd9",
      "0394e8ba49a741f98933cd04db80edb8",
      "0d80310907784367a001cc40bfe376e5",
      "4157f9dcbec64c56984506a4787523f8",
      "6550e6b3ad0e41ca965418f573baea32",
      "cc89ad952b604cb7bb490caf2c5c6226",
      "6160e8eeab4444d4b44ff842453a9d8b",
      "af5e3c05d0bb448abe4d2bb9f5600909",
      "db066557510840be98e2dbed22bd49d6",
      "10ba806f01294e1da43794f24f4511f0",
      "4b6ff14928cb4bf8852a719c83f85e3f",
      "d53cfc0286bb45758ca7384b4992b23a",
      "cc32d86f5bb94d4c85da8039402ee21e",
      "c519f70e90f3409ab432c3693118df76",
      "00ea2e38edad425697788e0c3007c077",
      "4eb1897cf20742058e235197cb46fe41",
      "ae98ee4ec3e74f3a87fc152c49f1ae98",
      "231682b2e91f4440a7cbb4534ba28518",
      "f0debc32a3e14a2d8ae94e7c810e9631",
      "2ece090a3e214170aef00858cd6186c0",
      "c1567ba19dcb44858a5aef20e7cd5520",
      "4c61f69aedba4a2e871779c88dceb92c",
      "e256fae32d61485ba687abddf813c20b",
      "ed9a2d8bc5cd4d5c8cd34baefb32ba95",
      "d9c27e624b684ca79ff768c470201337",
      "468ae991f1ac4e5594bb24e2c90cd677",
      "20f356720c764187915723fff838c879",
      "0ef17fc138ef4b5db1bedaeb179a3149",
      "518832bcbd354603952cf5ef14e4d642",
      "af963680b1fa41228381fb5ccfa0ab0c",
      "79a189f4146840cda41af489aae481f2",
      "a1eb18c9dc2a41d880d4e44e9040a178",
      "d917d1dc76f94f0cace804430c8dec5b",
      "5d1947937de640debbeba52bcf7fbdd7",
      "1e23778548774bc5a0daf24578cc4a47",
      "acd46b29da0a4fa3a0682b11fec75539",
      "28af0cfd433149809ca9224e4f574dba",
      "cf48e68fb2a146ca9dfe12ea3d108b92",
      "f23150c741174998b5635051c3b69b2d",
      "b3c5f3102430497f9774cbf7e8a17390",
      "3ef794779f2647828fdb3cd057fdcf25",
      "6b27cece583d49989fc2d5ec6b2d217a",
      "e6c2d90d6e594a0f9eee5ff5e1bad7af",
      "a105e309a9214df394e1c1566d6015ed",
      "629c1e09a1de4666a6f1f4ca1e76241f",
      "c5e03cd883ac49c4b6680c12698f56dc",
      "19406659977845c38f7b332f685f97ad",
      "de6c270864644fed9a0cb7a99ac11d69",
      "165c0eb8cf544a658fdf65448f723bc3",
      "6245e7e973e14e05ae2be4f46db15cee",
      "94fa46d8bfe14b14a808bba446add212",
      "2afda01490534e8d82ef2d8a3b03e284",
      "e5b4ceabb60e405c9cb1cbcf8234ee93",
      "1f67bc6e98514bb197541b42550dc777",
      "235199b99e61435eb720f4075835cd12",
      "9fb924ed00e144498f964e0d61ed7b68",
      "78c9613e1dba407da5891d5360dfe23a",
      "1f0b872f33894dd39a9659c1abc56326",
      "fbfa99503ee84c88abef673488c2153a",
      "9726e58a3d3f4f8f8ace1901ea770b8c",
      "99a0641029de4d23bf91905f3d7562c4",
      "5969953805f542829aa94811d04a664b",
      "73e71faf4aeb4a4e802f8a56e1f7c29c",
      "dd58f7e4bc1d4bca8b7c0e1b9a5d6c4f",
      "a75b1533672446bb99521b90c1be55f4",
      "7bed9da4a02c450ea328476fb8867d22"
     ]
    },
    "id": "TEIypyPhGIxn",
    "outputId": "8414503e-9f7d-452f-81ed-d348144e3229"
   },
   "outputs": [
    {
     "name": "stdout",
     "output_type": "stream",
     "text": [
      "Embedding English chunks using sentence-transformers/distiluse-base-multilingual-cased-v1...\n"
     ]
    },
    {
     "data": {
      "application/vnd.jupyter.widget-view+json": {
       "model_id": "6e8df816bbaa4de29782e159895c6dd9",
       "version_major": 2,
       "version_minor": 0
      },
      "text/plain": [
       "Batches:   0%|          | 0/1 [00:00<?, ?it/s]"
      ]
     },
     "metadata": {},
     "output_type": "display_data"
    },
    {
     "name": "stdout",
     "output_type": "stream",
     "text": [
      "Saved to English_sentence-transformers_distiluse-base-multilingual-cased-v1_embeddings.npy\n",
      "Embedding English chunks using intfloat/multilingual-e5-small...\n"
     ]
    },
    {
     "data": {
      "application/vnd.jupyter.widget-view+json": {
       "model_id": "d53cfc0286bb45758ca7384b4992b23a",
       "version_major": 2,
       "version_minor": 0
      },
      "text/plain": [
       "Batches:   0%|          | 0/1 [00:00<?, ?it/s]"
      ]
     },
     "metadata": {},
     "output_type": "display_data"
    },
    {
     "name": "stdout",
     "output_type": "stream",
     "text": [
      "Saved to English_intfloat_multilingual-e5-small_embeddings.npy\n",
      "Embedding English chunks using BAAI/bge-small-en-v1.5...\n"
     ]
    },
    {
     "data": {
      "application/vnd.jupyter.widget-view+json": {
       "model_id": "e256fae32d61485ba687abddf813c20b",
       "version_major": 2,
       "version_minor": 0
      },
      "text/plain": [
       "Batches:   0%|          | 0/1 [00:00<?, ?it/s]"
      ]
     },
     "metadata": {},
     "output_type": "display_data"
    },
    {
     "name": "stdout",
     "output_type": "stream",
     "text": [
      "Saved to English_BAAI_bge-small-en-v1.5_embeddings.npy\n",
      "Embedding Urdu chunks using sentence-transformers/distiluse-base-multilingual-cased-v1...\n"
     ]
    },
    {
     "data": {
      "application/vnd.jupyter.widget-view+json": {
       "model_id": "5d1947937de640debbeba52bcf7fbdd7",
       "version_major": 2,
       "version_minor": 0
      },
      "text/plain": [
       "Batches:   0%|          | 0/1 [00:00<?, ?it/s]"
      ]
     },
     "metadata": {},
     "output_type": "display_data"
    },
    {
     "name": "stdout",
     "output_type": "stream",
     "text": [
      "Saved to Urdu_sentence-transformers_distiluse-base-multilingual-cased-v1_embeddings.npy\n",
      "Embedding Urdu chunks using intfloat/multilingual-e5-small...\n"
     ]
    },
    {
     "data": {
      "application/vnd.jupyter.widget-view+json": {
       "model_id": "629c1e09a1de4666a6f1f4ca1e76241f",
       "version_major": 2,
       "version_minor": 0
      },
      "text/plain": [
       "Batches:   0%|          | 0/1 [00:00<?, ?it/s]"
      ]
     },
     "metadata": {},
     "output_type": "display_data"
    },
    {
     "name": "stdout",
     "output_type": "stream",
     "text": [
      "Saved to Urdu_intfloat_multilingual-e5-small_embeddings.npy\n",
      "Embedding Urdu chunks using BAAI/bge-small-en-v1.5...\n"
     ]
    },
    {
     "data": {
      "application/vnd.jupyter.widget-view+json": {
       "model_id": "9fb924ed00e144498f964e0d61ed7b68",
       "version_major": 2,
       "version_minor": 0
      },
      "text/plain": [
       "Batches:   0%|          | 0/1 [00:00<?, ?it/s]"
      ]
     },
     "metadata": {},
     "output_type": "display_data"
    },
    {
     "name": "stdout",
     "output_type": "stream",
     "text": [
      "Saved to Urdu_BAAI_bge-small-en-v1.5_embeddings.npy\n"
     ]
    }
   ],
   "source": [
    "from sentence_transformers import SentenceTransformer\n",
    "import json\n",
    "import numpy as np\n",
    "\n",
    "#selected models\n",
    "model_names = [\n",
    "    \"sentence-transformers/distiluse-base-multilingual-cased-v1\",\n",
    "    \"intfloat/multilingual-e5-small\",\n",
    "    \"BAAI/bge-small-en-v1.5\"  # Change to multilingual version if needed\n",
    "]\n",
    "\n",
    "models = {name: SentenceTransformer(name) for name in model_names}\n",
    "\n",
    "with open('english_chunks.json', 'r', encoding='utf-8') as f:\n",
    "    english_chunks = json.load(f)\n",
    "\n",
    "with open('urdu_chunks.json', 'r', encoding='utf-8') as f:\n",
    "   urdu_chunks = json.load(f)\n",
    "\n",
    "all_chunks = {\n",
    "    \"English\": english_chunks,\n",
    "    \"Urdu\": urdu_chunks\n",
    "}\n",
    "for lang, chunks in all_chunks.items():\n",
    "    for model_name, model in models.items():\n",
    "        print(f\"Embedding {lang} chunks using {model_name}...\")\n",
    "        embeddings = model.encode(chunks, show_progress_bar=True)\n",
    "        save_path = f\"{lang}_{model_name.replace('/', '_')}_embeddings.npy\"\n",
    "        np.save(save_path, embeddings)\n",
    "        print(f\"Saved to {save_path}\")\n"
   ]
  },
  {
   "cell_type": "markdown",
   "metadata": {
    "id": "wKm3k9MaaYV6"
   },
   "source": [
    "5. Pinecone"
   ]
  },
  {
   "cell_type": "code",
   "execution_count": null,
   "metadata": {
    "id": "mMycD1-HB3yh"
   },
   "outputs": [],
   "source": [
    "!pip install -q pinecone-client"
   ]
  },
  {
   "cell_type": "code",
   "execution_count": null,
   "metadata": {
    "colab": {
     "base_uri": "https://localhost:8080/"
    },
    "id": "PsK12x_DIIbo",
    "outputId": "8b93b0e1-a76b-4d5b-d82c-0f67b0c93405"
   },
   "outputs": [
    {
     "name": "stdout",
     "output_type": "stream",
     "text": [
      "Requirement already satisfied: pinecone in /usr/local/lib/python3.11/dist-packages (7.0.2)\n",
      "Requirement already satisfied: certifi>=2019.11.17 in /usr/local/lib/python3.11/dist-packages (from pinecone) (2025.4.26)\n",
      "Requirement already satisfied: pinecone-plugin-assistant<2.0.0,>=1.6.0 in /usr/local/lib/python3.11/dist-packages (from pinecone) (1.6.1)\n",
      "Requirement already satisfied: pinecone-plugin-interface<0.0.8,>=0.0.7 in /usr/local/lib/python3.11/dist-packages (from pinecone) (0.0.7)\n",
      "Requirement already satisfied: python-dateutil>=2.5.3 in /usr/local/lib/python3.11/dist-packages (from pinecone) (2.9.0.post0)\n",
      "Requirement already satisfied: typing-extensions>=3.7.4 in /usr/local/lib/python3.11/dist-packages (from pinecone) (4.13.2)\n",
      "Requirement already satisfied: urllib3>=1.26.0 in /usr/local/lib/python3.11/dist-packages (from pinecone) (2.4.0)\n",
      "Requirement already satisfied: packaging<25.0,>=24.2 in /usr/local/lib/python3.11/dist-packages (from pinecone-plugin-assistant<2.0.0,>=1.6.0->pinecone) (24.2)\n",
      "Requirement already satisfied: requests<3.0.0,>=2.32.3 in /usr/local/lib/python3.11/dist-packages (from pinecone-plugin-assistant<2.0.0,>=1.6.0->pinecone) (2.32.3)\n",
      "Requirement already satisfied: six>=1.5 in /usr/local/lib/python3.11/dist-packages (from python-dateutil>=2.5.3->pinecone) (1.17.0)\n",
      "Requirement already satisfied: charset-normalizer<4,>=2 in /usr/local/lib/python3.11/dist-packages (from requests<3.0.0,>=2.32.3->pinecone-plugin-assistant<2.0.0,>=1.6.0->pinecone) (3.4.2)\n",
      "Requirement already satisfied: idna<4,>=2.5 in /usr/local/lib/python3.11/dist-packages (from requests<3.0.0,>=2.32.3->pinecone-plugin-assistant<2.0.0,>=1.6.0->pinecone) (3.10)\n"
     ]
    }
   ],
   "source": [
    "!pip install pinecone"
   ]
  },
  {
   "cell_type": "code",
   "execution_count": null,
   "metadata": {
    "colab": {
     "base_uri": "https://localhost:8080/"
    },
    "id": "M5epCyJ4NtKH",
    "outputId": "dc3b2486-e72b-47cb-a877-d7edf1ae5724"
   },
   "outputs": [
    {
     "data": {
      "text/plain": [
       "{\n",
       "    \"name\": \"multilingual-nlp-bge\",\n",
       "    \"metric\": \"cosine\",\n",
       "    \"host\": \"multilingual-nlp-bge-fyi1ymv.svc.aped-4627-b74a.pinecone.io\",\n",
       "    \"spec\": {\n",
       "        \"serverless\": {\n",
       "            \"cloud\": \"aws\",\n",
       "            \"region\": \"us-east-1\"\n",
       "        }\n",
       "    },\n",
       "    \"status\": {\n",
       "        \"ready\": true,\n",
       "        \"state\": \"Ready\"\n",
       "    },\n",
       "    \"vector_type\": \"dense\",\n",
       "    \"dimension\": 384,\n",
       "    \"deletion_protection\": \"disabled\",\n",
       "    \"tags\": null\n",
       "}"
      ]
     },
     "execution_count": 69,
     "metadata": {},
     "output_type": "execute_result"
    }
   ],
   "source": [
    "from pinecone import Pinecone, ServerlessSpec\n",
    "\n",
    "pc = Pinecone(api_key=\"pcsk_oZM9Z_SjA2Ptu9GS8NBikJqtAWPAyXQcWJvLLkPSJUNqpws3mAJxduL1MABbG88rN1Shx\")\n",
    "\n",
    "# Create each index with proper dimension\n",
    "pc.create_index(\"multilingual-nlp-distiluse\", dimension=512, metric=\"cosine\", spec=ServerlessSpec(cloud=\"aws\", region=\"us-east-1\"))\n",
    "pc.create_index(\"multilingual-nlp-e5\", dimension=384, metric=\"cosine\", spec=ServerlessSpec(cloud=\"aws\", region=\"us-east-1\"))\n",
    "pc.create_index(\"multilingual-nlp-bge\", dimension=384, metric=\"cosine\", spec=ServerlessSpec(cloud=\"aws\", region=\"us-east-1\"))\n"
   ]
  },
  {
   "cell_type": "code",
   "execution_count": null,
   "metadata": {
    "id": "jBD0pRYVIiex"
   },
   "outputs": [],
   "source": [
    "# Load all chunks\n",
    "with open(\"english_chunks.json\", 'r', encoding='utf-8') as f:\n",
    "    english_chunks = json.load(f)\n",
    "with open(\"urdu_chunks.json\", 'r', encoding='utf-8') as f:\n",
    "    urdu_chunks = json.load(f)\n",
    "\n",
    "def upload_embeddings(index_name, eng_file, urdu_file):\n",
    "    index = pc.Index(index_name)\n",
    "    vectors = []\n",
    "\n",
    "    english_embeddings = np.load(eng_file)\n",
    "    urdu_embeddings = np.load(urdu_file)\n",
    "\n",
    "    for (id_text, emb) in zip(english_chunks, english_embeddings):\n",
    "        vectors.append({\n",
    "            \"id\": id_text[0],\n",
    "            \"values\": emb.tolist(),\n",
    "            \"metadata\": {\"language\": \"english\", \"text\": id_text[1]}\n",
    "        })\n",
    "\n",
    "    for (id_text, emb) in zip(urdu_chunks, urdu_embeddings):\n",
    "        vectors.append({\n",
    "            \"id\": id_text[0],\n",
    "            \"values\": emb.tolist(),\n",
    "            \"metadata\": {\"language\": \"urdu\", \"text\": id_text[1]}\n",
    "        })\n",
    "\n",
    "    # Upload in batches\n",
    "    for i in range(0, len(vectors), 32):\n",
    "        index.upsert(vectors=vectors[i:i+32])"
   ]
  },
  {
   "cell_type": "code",
   "execution_count": null,
   "metadata": {
    "id": "jzkJgOdcIntX"
   },
   "outputs": [],
   "source": [
    "upload_embeddings(\"multilingual-nlp-distiluse\",\n",
    "                  \"English_sentence-transformers_distiluse-base-multilingual-cased-v1_embeddings.npy\",\n",
    "                  \"Urdu_sentence-transformers_distiluse-base-multilingual-cased-v1_embeddings.npy\")\n",
    "\n",
    "upload_embeddings(\"multilingual-nlp-e5\",\n",
    "                  \"English_intfloat_multilingual-e5-small_embeddings.npy\",\n",
    "                  \"Urdu_intfloat_multilingual-e5-small_embeddings.npy\")\n",
    "\n",
    "upload_embeddings(\"multilingual-nlp-bge\",\n",
    "                  \"English_BAAI_bge-small-en-v1.5_embeddings.npy\",\n",
    "                  \"Urdu_BAAI_bge-small-en-v1.5_embeddings.npy\")\n"
   ]
  },
  {
   "cell_type": "code",
   "execution_count": null,
   "metadata": {
    "id": "euh79z8dIt-X"
   },
   "outputs": [],
   "source": [
    "\n"
   ]
  },
  {
   "cell_type": "code",
   "execution_count": null,
   "metadata": {
    "id": "TxOOUnM2O96R"
   },
   "outputs": [],
   "source": [
    "def query_all_models(query_text):\n",
    "    print(f\"🔍 Query: {query_text}\\n\")\n",
    "    for index_name, model in models.items():\n",
    "        print(f\"--- Results from {index_name} ---\")\n",
    "        embedding = model.encode(query_text).tolist()\n",
    "        results = pc.Index(index_name).query(vector=embedding, top_k=3, include_metadata=True)\n",
    "        for match in results['matches']:\n",
    "            print(f\"[{match['metadata']['language']}] ({match['score']:.4f}) → {match['metadata']['text']}\\n\")"
   ]
  },
  {
   "cell_type": "markdown",
   "metadata": {
    "id": "TqbM3AVmBZi3"
   },
   "source": [
    "Query (Urdu)"
   ]
  },
  {
   "cell_type": "code",
   "execution_count": null,
   "metadata": {
    "colab": {
     "base_uri": "https://localhost:8080/"
    },
    "id": "ImreOecoI3lA",
    "outputId": "b417babc-2315-44be-d5f8-c5714579dea8"
   },
   "outputs": [
    {
     "name": "stdout",
     "output_type": "stream",
     "text": [
      "🔍 Query: مصنوعی ذہانت اور مشین لرننگ کے درمیان کیا فرق ہے؟\n",
      "\n",
      "--- Results from multilingual-nlp-distiluse ---\n",
      "[urdu] (0.2720) → جیسی سمجھی جاتی ہیں، مگر ان میں فرق ہے: مصنوعی ذہانت ایک وسیع تصور ہے جس میں نظام کو انسان کی طرح سوچنے، سیکھنے اور عمل کرنے کے قابل بنایا جاتا ہے۔ مشین لرننگ مصنوعی ذہانت کا ایک حصہ ہے جو مشینوں کو معلومات سے سیکھنے اور سمجھ بوجھ حاصل کرنے کی صلاحیت دیتی ہے۔ یعنی، مصنوعی ذہانت ایک مکمل شعبہ ہے، اور مشین لرننگ اس شعبے کی ایک خاص شاخ ہے جو مشینوں کو خودکار سیکھنے کے قابل بناتی ہے۔\n",
      "\n",
      "[urdu] (0.2458) → جائے تو اسے مصنوعی ذہانت کہنا چھوڑ دیا جاتا ہے۔ مصنوعی ذہانت کی تحقیق مختلف مقاصد اور مخصوص اوزاروں کے استعمال کے گرد گھومتی ہے۔ اس کے روایتی مقاصد میں سیکھنا، سوچنا، علم کی نمائندگی، منصوبہ بندی، قدرتی زبان کی سمجھ، مشاہدہ، اور خودکار مشینوں کی مدد شامل ہیں۔ مکمل ذہانت — یعنی ہر وہ کام جو ایک انسان کر سکتا ہے، اسے کم از کم برابر سطح پر انجام دینا — اس شعبے کا طویل المدتی ہدف ہے۔ ان مقاصد کے حصول کے لیے محققین نے تلاش، ریاضیاتی بہتری، منطقی اصول، مصنوعی اعصابی جال، اور شماریاتی، عملیاتی تحقیق، اور\n",
      "\n",
      "[urdu] (0.2382) → مشین لرننگ کیا ہے؟ مشین لرننگ، مصنوعی ذہانت کی ایک شاخ ہے جو مشینوں کو اس قابل بناتی ہے کہ وہ بغیر کسی واضح پروگرامنگ کے خود بخود ڈیٹا سے سیکھ سکیں۔ یہ مختلف حسابی طریقوں کے ذریعے بڑے پیمانے پر معلومات کا تجزیہ کرتی ہے، اُن سے سیکھتی ہے، اُن میں چھپے ہوئے نمونے پہچانتی ہے اور بہتر فیصلے کرنے کے قابل بنتی ہے۔ آسان الفاظ میں، مشین معلومات سے \"سیکھتی ہے\" اور پھر اسی سیکھنے کی بنیاد پر اندازے لگاتی ہے اور فیصلے کرتی ہے۔ وقت گزرنے کے ساتھ جب مشین کو مزید معلومات دی جاتی ہیں اور\n",
      "\n",
      "--- Results from multilingual-nlp-e5 ---\n",
      "[urdu] (0.9115) → جیسی سمجھی جاتی ہیں، مگر ان میں فرق ہے: مصنوعی ذہانت ایک وسیع تصور ہے جس میں نظام کو انسان کی طرح سوچنے، سیکھنے اور عمل کرنے کے قابل بنایا جاتا ہے۔ مشین لرننگ مصنوعی ذہانت کا ایک حصہ ہے جو مشینوں کو معلومات سے سیکھنے اور سمجھ بوجھ حاصل کرنے کی صلاحیت دیتی ہے۔ یعنی، مصنوعی ذہانت ایک مکمل شعبہ ہے، اور مشین لرننگ اس شعبے کی ایک خاص شاخ ہے جو مشینوں کو خودکار سیکھنے کے قابل بناتی ہے۔\n",
      "\n",
      "[urdu] (0.8962) → مشین لرننگ کیا ہے؟ مشین لرننگ، مصنوعی ذہانت کی ایک شاخ ہے جو مشینوں کو اس قابل بناتی ہے کہ وہ بغیر کسی واضح پروگرامنگ کے خود بخود ڈیٹا سے سیکھ سکیں۔ یہ مختلف حسابی طریقوں کے ذریعے بڑے پیمانے پر معلومات کا تجزیہ کرتی ہے، اُن سے سیکھتی ہے، اُن میں چھپے ہوئے نمونے پہچانتی ہے اور بہتر فیصلے کرنے کے قابل بنتی ہے۔ آسان الفاظ میں، مشین معلومات سے \"سیکھتی ہے\" اور پھر اسی سیکھنے کی بنیاد پر اندازے لگاتی ہے اور فیصلے کرتی ہے۔ وقت گزرنے کے ساتھ جب مشین کو مزید معلومات دی جاتی ہیں اور\n",
      "\n",
      "[urdu] (0.8906) → کام انجام دیے جاتے ہیں: گروہ بندی، تعلقات کی تلاش، اور معلومات کی سادہ صورت میں تبدیلی۔ ۳۔ ترغیبی سیکھنا: اس میں ایک کردار (ایجنٹ) ماحول کا مشاہدہ کرتا ہے اور اپنے اعمال کے نتیجے میں مثبت یا منفی ردِعمل سے سیکھتا ہے۔ جب اچھا نتیجہ ملے تو انعام دیا جاتا ہے، اور غلطی کی صورت میں سزا، یوں وقت کے ساتھ کردار بہتر فیصلے کرنا سیکھتا ہے۔ مصنوعی ذہانت اور مشین لرننگ کا تعلق: یہ دونوں اصطلاحات اکثر ایک جیسی سمجھی جاتی ہیں، مگر ان میں فرق ہے: مصنوعی ذہانت ایک وسیع تصور ہے جس میں نظام کو انسان\n",
      "\n",
      "--- Results from multilingual-nlp-bge ---\n",
      "[urdu] (0.9099) → جاتا ہے۔ ۲۰۱۲ کے بعد اس شعبے میں گہری سیکھنے کی تکنیکوں نے پرانی تکنیکوں کو پیچھے چھوڑ دیا، جس کے باعث دلچسپی اور سرمایہ کاری میں زبردست اضافہ ہوا۔ ۲۰۱۷ کے بعد ترقی مزید تیز ہو گئی، اور ۲۰۲۰ کی دہائی کے آغاز تک اربوں کی سرمایہ کاری ہونے لگی اور اسے \"مصنوعی ذہانت کا عروج\" کہا گیا۔ اس دوران جدید تخلیقی مصنوعی ذہانت کی آمد، اور اس کی صلاحیت کہ وہ نیا مواد بنا اور تبدیل کر سکے، نے کئی غیر متوقع نقصانات اور خطرات کو بے نقاب کیا۔ اس نے موجودہ اور مستقبل میں مصنوعی ذہانت کے\n",
      "\n",
      "[urdu] (0.9092) → مصنوعی ذہانت سے مراد کمپیوٹری نظاموں کی وہ صلاحیت ہے جو عام طور پر انسانی ذہانت سے وابستہ کاموں کو انجام دینے کی اہلیت رکھتی ہے، جیسے سیکھنا، سوچنا، مسئلے حل کرنا، محسوس کرنا، اور فیصلے کرنا۔ یہ کمپیوٹر سائنس کا ایک تحقیقی شعبہ ہے جو ایسے طریقے اور سافٹ ویئر تیار کرتا ہے جو مشینوں کو اپنے اردگرد کے ماحول کو سمجھنے، سیکھنے، اور دانشمندی سے ایسے اقدامات کرنے کے قابل بناتے ہیں جو متعین کردہ مقاصد کو حاصل کرنے کے امکانات کو بڑھا دیں۔ ایسی مشینوں کو مصنوعی ذہانت رکھنے والی مشینیں کہا جاتا ہے۔ مصنوعی ذہانت کی\n",
      "\n",
      "[urdu] (0.9052) → کرنے کے امکانات کو بڑھا دیں۔ ایسی مشینوں کو مصنوعی ذہانت رکھنے والی مشینیں کہا جاتا ہے۔ مصنوعی ذہانت کی نمایاں مثالوں میں جدید تلاش کرنے والے نظام، تجویز کرنے والے نظام، مجازی معاونین، خودکار گاڑیاں، تخلیقی اوزار، اور حکمت عملی والے کھیلوں میں غیرمعمولی کارکردگی شامل ہیں۔ تاہم، بہت سی ایسی ایجادات جو مصنوعی ذہانت کی بنیاد پر بنی ہوتی ہیں، عام طور پر مصنوعی ذہانت کہلا کر نہیں پہچانی جاتیں، کیونکہ جب کوئی چیز عام اور مفید ہو جائے تو اسے مصنوعی ذہانت کہنا چھوڑ دیا جاتا ہے۔ مصنوعی ذہانت کی تحقیق مختلف مقاصد اور مخصوص اوزاروں کے\n",
      "\n"
     ]
    }
   ],
   "source": [
    "query_all_models(queries[\"urdu\"])"
   ]
  },
  {
   "cell_type": "markdown",
   "metadata": {
    "id": "TuuS2coEBVfU"
   },
   "source": [
    "Query (English)"
   ]
  },
  {
   "cell_type": "code",
   "execution_count": null,
   "metadata": {
    "colab": {
     "base_uri": "https://localhost:8080/"
    },
    "id": "cI1J_sBxPEt-",
    "outputId": "fa090cb5-a5cd-4855-de28-f35d19c5f1e1"
   },
   "outputs": [
    {
     "name": "stdout",
     "output_type": "stream",
     "text": [
      "🔍 Query: What is the difference between AI and machine learning?\n",
      "\n",
      "--- Results from multilingual-nlp-distiluse ---\n",
      "[english] (0.5635) → what is machine learning? machine learning (ml) is a subset of artificial intelligence that enables machines to learn from data without being explicitly programmed. it uses algorithms to analyze large amounts of data, learn from the insights, and gain patterns and make informed decisions. in simple words, the machine \"learns\" from the data and uses this knowledge to make predictions and decisions. machine learning algorithms enhance their performance over time as they undergo continuous training and exposed to additional data. machine learning models are the output or what the program learns by executing an algorithm on training data. the greater\n",
      "\n",
      "[english] (0.5237) → they are not the same thing but are closely connected. relationship between ai and ml understanding the relationship between ai and ml is important for developing intelligent systems. the simplest way to understand this is − ai is the broader concept of enabling a system to think, act, and learn like humans. ml is an application of ai that allows machines to learn from data and gain knowledgeable insights. artificial intelligence is the branch of computer science that covers a variety of approaches and algorithms, and machine learning being one of it.\n",
      "\n",
      "[english] (0.4839) → variety of approaches and algorithms, and machine learning being one of it.\n",
      "\n",
      "--- Results from multilingual-nlp-e5 ---\n",
      "[english] (0.9178) → they are not the same thing but are closely connected. relationship between ai and ml understanding the relationship between ai and ml is important for developing intelligent systems. the simplest way to understand this is − ai is the broader concept of enabling a system to think, act, and learn like humans. ml is an application of ai that allows machines to learn from data and gain knowledgeable insights. artificial intelligence is the branch of computer science that covers a variety of approaches and algorithms, and machine learning being one of it.\n",
      "\n",
      "[english] (0.9113) → type of learning, the machine is given unlabeled datasets to algorithms to find hidden patterns or data groupings. there are three types of unsupervised learning tasks which include clustering, association rule, and dimensionality reduction. reinforcement learning: in this type of learning, an agent is trained to interpret the environment and learns from the feedback which is can be a reward (positive feedback) or penalty (negative feedback). artificial intelligence and machine learning are two term that are often used interchangeably. however, they are not the same thing but are closely connected. relationship between ai and ml understanding the relationship between ai\n",
      "\n",
      "[english] (0.9104) → what is machine learning? machine learning (ml) is a subset of artificial intelligence that enables machines to learn from data without being explicitly programmed. it uses algorithms to analyze large amounts of data, learn from the insights, and gain patterns and make informed decisions. in simple words, the machine \"learns\" from the data and uses this knowledge to make predictions and decisions. machine learning algorithms enhance their performance over time as they undergo continuous training and exposed to additional data. machine learning models are the output or what the program learns by executing an algorithm on training data. the greater\n",
      "\n",
      "--- Results from multilingual-nlp-bge ---\n",
      "[english] (0.8596) → they are not the same thing but are closely connected. relationship between ai and ml understanding the relationship between ai and ml is important for developing intelligent systems. the simplest way to understand this is − ai is the broader concept of enabling a system to think, act, and learn like humans. ml is an application of ai that allows machines to learn from data and gain knowledgeable insights. artificial intelligence is the branch of computer science that covers a variety of approaches and algorithms, and machine learning being one of it.\n",
      "\n",
      "[english] (0.8132) → what is machine learning? machine learning (ml) is a subset of artificial intelligence that enables machines to learn from data without being explicitly programmed. it uses algorithms to analyze large amounts of data, learn from the insights, and gain patterns and make informed decisions. in simple words, the machine \"learns\" from the data and uses this knowledge to make predictions and decisions. machine learning algorithms enhance their performance over time as they undergo continuous training and exposed to additional data. machine learning models are the output or what the program learns by executing an algorithm on training data. the greater\n",
      "\n",
      "[english] (0.7971) → type of learning, the machine is given unlabeled datasets to algorithms to find hidden patterns or data groupings. there are three types of unsupervised learning tasks which include clustering, association rule, and dimensionality reduction. reinforcement learning: in this type of learning, an agent is trained to interpret the environment and learns from the feedback which is can be a reward (positive feedback) or penalty (negative feedback). artificial intelligence and machine learning are two term that are often used interchangeably. however, they are not the same thing but are closely connected. relationship between ai and ml understanding the relationship between ai\n",
      "\n"
     ]
    }
   ],
   "source": [
    "query_all_models(queries[\"english\"])"
   ]
  },
  {
   "cell_type": "markdown",
   "metadata": {
    "id": "qlp9w6RmUsBf"
   },
   "source": [
    "**Assignment # 3**"
   ]
  },
  {
   "cell_type": "code",
   "execution_count": null,
   "metadata": {
    "colab": {
     "base_uri": "https://localhost:8080/"
    },
    "id": "AkAtRvllB8Jq",
    "outputId": "e31eb14a-4546-4ea2-c8b4-b4fff3ccefc9"
   },
   "outputs": [
    {
     "name": "stdout",
     "output_type": "stream",
     "text": [
      "Requirement already satisfied: transformers in /usr/local/lib/python3.11/dist-packages (4.52.2)\n",
      "Requirement already satisfied: accelerate in /usr/local/lib/python3.11/dist-packages (1.7.0)\n",
      "Requirement already satisfied: filelock in /usr/local/lib/python3.11/dist-packages (from transformers) (3.18.0)\n",
      "Requirement already satisfied: huggingface-hub<1.0,>=0.30.0 in /usr/local/lib/python3.11/dist-packages (from transformers) (0.31.4)\n",
      "Requirement already satisfied: numpy>=1.17 in /usr/local/lib/python3.11/dist-packages (from transformers) (2.0.2)\n",
      "Requirement already satisfied: packaging>=20.0 in /usr/local/lib/python3.11/dist-packages (from transformers) (24.2)\n",
      "Requirement already satisfied: pyyaml>=5.1 in /usr/local/lib/python3.11/dist-packages (from transformers) (6.0.2)\n",
      "Requirement already satisfied: regex!=2019.12.17 in /usr/local/lib/python3.11/dist-packages (from transformers) (2024.11.6)\n",
      "Requirement already satisfied: requests in /usr/local/lib/python3.11/dist-packages (from transformers) (2.32.3)\n",
      "Requirement already satisfied: tokenizers<0.22,>=0.21 in /usr/local/lib/python3.11/dist-packages (from transformers) (0.21.1)\n",
      "Requirement already satisfied: safetensors>=0.4.3 in /usr/local/lib/python3.11/dist-packages (from transformers) (0.5.3)\n",
      "Requirement already satisfied: tqdm>=4.27 in /usr/local/lib/python3.11/dist-packages (from transformers) (4.67.1)\n",
      "Requirement already satisfied: psutil in /usr/local/lib/python3.11/dist-packages (from accelerate) (5.9.5)\n",
      "Requirement already satisfied: torch>=2.0.0 in /usr/local/lib/python3.11/dist-packages (from accelerate) (2.6.0+cu124)\n",
      "Requirement already satisfied: fsspec>=2023.5.0 in /usr/local/lib/python3.11/dist-packages (from huggingface-hub<1.0,>=0.30.0->transformers) (2025.3.2)\n",
      "Requirement already satisfied: typing-extensions>=3.7.4.3 in /usr/local/lib/python3.11/dist-packages (from huggingface-hub<1.0,>=0.30.0->transformers) (4.13.2)\n",
      "Requirement already satisfied: networkx in /usr/local/lib/python3.11/dist-packages (from torch>=2.0.0->accelerate) (3.4.2)\n",
      "Requirement already satisfied: jinja2 in /usr/local/lib/python3.11/dist-packages (from torch>=2.0.0->accelerate) (3.1.6)\n",
      "Requirement already satisfied: nvidia-cuda-nvrtc-cu12==12.4.127 in /usr/local/lib/python3.11/dist-packages (from torch>=2.0.0->accelerate) (12.4.127)\n",
      "Requirement already satisfied: nvidia-cuda-runtime-cu12==12.4.127 in /usr/local/lib/python3.11/dist-packages (from torch>=2.0.0->accelerate) (12.4.127)\n",
      "Requirement already satisfied: nvidia-cuda-cupti-cu12==12.4.127 in /usr/local/lib/python3.11/dist-packages (from torch>=2.0.0->accelerate) (12.4.127)\n",
      "Requirement already satisfied: nvidia-cudnn-cu12==9.1.0.70 in /usr/local/lib/python3.11/dist-packages (from torch>=2.0.0->accelerate) (9.1.0.70)\n",
      "Requirement already satisfied: nvidia-cublas-cu12==12.4.5.8 in /usr/local/lib/python3.11/dist-packages (from torch>=2.0.0->accelerate) (12.4.5.8)\n",
      "Requirement already satisfied: nvidia-cufft-cu12==11.2.1.3 in /usr/local/lib/python3.11/dist-packages (from torch>=2.0.0->accelerate) (11.2.1.3)\n",
      "Requirement already satisfied: nvidia-curand-cu12==10.3.5.147 in /usr/local/lib/python3.11/dist-packages (from torch>=2.0.0->accelerate) (10.3.5.147)\n",
      "Requirement already satisfied: nvidia-cusolver-cu12==11.6.1.9 in /usr/local/lib/python3.11/dist-packages (from torch>=2.0.0->accelerate) (11.6.1.9)\n",
      "Requirement already satisfied: nvidia-cusparse-cu12==12.3.1.170 in /usr/local/lib/python3.11/dist-packages (from torch>=2.0.0->accelerate) (12.3.1.170)\n",
      "Requirement already satisfied: nvidia-cusparselt-cu12==0.6.2 in /usr/local/lib/python3.11/dist-packages (from torch>=2.0.0->accelerate) (0.6.2)\n",
      "Requirement already satisfied: nvidia-nccl-cu12==2.21.5 in /usr/local/lib/python3.11/dist-packages (from torch>=2.0.0->accelerate) (2.21.5)\n",
      "Requirement already satisfied: nvidia-nvtx-cu12==12.4.127 in /usr/local/lib/python3.11/dist-packages (from torch>=2.0.0->accelerate) (12.4.127)\n",
      "Requirement already satisfied: nvidia-nvjitlink-cu12==12.4.127 in /usr/local/lib/python3.11/dist-packages (from torch>=2.0.0->accelerate) (12.4.127)\n",
      "Requirement already satisfied: triton==3.2.0 in /usr/local/lib/python3.11/dist-packages (from torch>=2.0.0->accelerate) (3.2.0)\n",
      "Requirement already satisfied: sympy==1.13.1 in /usr/local/lib/python3.11/dist-packages (from torch>=2.0.0->accelerate) (1.13.1)\n",
      "Requirement already satisfied: mpmath<1.4,>=1.1.0 in /usr/local/lib/python3.11/dist-packages (from sympy==1.13.1->torch>=2.0.0->accelerate) (1.3.0)\n",
      "Requirement already satisfied: charset-normalizer<4,>=2 in /usr/local/lib/python3.11/dist-packages (from requests->transformers) (3.4.2)\n",
      "Requirement already satisfied: idna<4,>=2.5 in /usr/local/lib/python3.11/dist-packages (from requests->transformers) (3.10)\n",
      "Requirement already satisfied: urllib3<3,>=1.21.1 in /usr/local/lib/python3.11/dist-packages (from requests->transformers) (2.4.0)\n",
      "Requirement already satisfied: certifi>=2017.4.17 in /usr/local/lib/python3.11/dist-packages (from requests->transformers) (2025.4.26)\n",
      "Requirement already satisfied: MarkupSafe>=2.0 in /usr/local/lib/python3.11/dist-packages (from jinja2->torch>=2.0.0->accelerate) (3.0.2)\n"
     ]
    }
   ],
   "source": [
    "!pip install transformers accelerate"
   ]
  },
  {
   "cell_type": "code",
   "execution_count": null,
   "metadata": {
    "id": "SAt-14oUETyE"
   },
   "outputs": [],
   "source": [
    "from transformers import AutoTokenizer, AutoModelForSeq2SeqLM\n",
    "import torch\n",
    "\n",
    "# Load FLAN-T5 model and tokenizer\n",
    "tokenizer = AutoTokenizer.from_pretrained(\"google/flan-t5-base\")\n",
    "model = AutoModelForSeq2SeqLM.from_pretrained(\"google/flan-t5-base\")"
   ]
  },
  {
   "cell_type": "code",
   "execution_count": null,
   "metadata": {
    "id": "IHPHDuV1IEvT"
   },
   "outputs": [],
   "source": [
    "def ask_flan_t5(context, query):\n",
    "    prompt = f\"Context: {context}\\n\\nQuestion: {query}\\n\\nAnswer:\"\n",
    "    inputs = tokenizer(prompt, return_tensors=\"pt\", truncation=True)\n",
    "    outputs = model.generate(**inputs, max_new_tokens=150)\n",
    "    return tokenizer.decode(outputs[0], skip_special_tokens=True)"
   ]
  },
  {
   "cell_type": "code",
   "execution_count": null,
   "metadata": {
    "id": "nSE8aNz_IB8o"
   },
   "outputs": [],
   "source": [
    "def build_context(matches):\n",
    "    return \"\\n\".join([m[\"metadata\"][\"text\"] for m in matches])"
   ]
  },
  {
   "cell_type": "code",
   "execution_count": null,
   "metadata": {
    "id": "_Bv0-JL_H-eJ"
   },
   "outputs": [],
   "source": [
    "def get_top_chunks(query, top_k=3):\n",
    "    query_emb = embedding_model.encode(query)\n",
    "    index = pc.Index(\"multilingual-nlp-e5\")\n",
    "    results = index.query(vector=query_emb.tolist(), top_k=top_k, include_metadata=True)\n",
    "    return results['matches']"
   ]
  },
  {
   "cell_type": "code",
   "execution_count": null,
   "metadata": {
    "colab": {
     "base_uri": "https://localhost:8080/"
    },
    "id": "M8oWYCphIHoz",
    "outputId": "71bd54c5-edfc-4b31-fc63-ca3ffb3431c7"
   },
   "outputs": [
    {
     "name": "stdout",
     "output_type": "stream",
     "text": [
      "✅ Answer from FLAN-T5:\n",
      " a subset of artificial intelligence that enables machines to learn from data without being explicitly programmed\n"
     ]
    }
   ],
   "source": [
    "query = \"What is machine learning?\"\n",
    "\n",
    "top_chunks = get_top_chunks(query)\n",
    "context = build_context(top_chunks)\n",
    "answer = ask_flan_t5(context, query)\n",
    "\n",
    "print(\"✅ Answer from FLAN-T5:\\n\", answer)"
   ]
  }
 ],
 "metadata": {
  "accelerator": "GPU",
  "colab": {
   "gpuType": "T4",
   "provenance": []
  },
  "kernelspec": {
   "display_name": "Python 3",
   "name": "python3"
  },
  "language_info": {
   "name": "python"
  }
 },
 "nbformat": 4,
 "nbformat_minor": 0
}
